{
 "cells": [
  {
   "cell_type": "code",
   "execution_count": 37,
   "metadata": {},
   "outputs": [],
   "source": [
    "import requests\n",
    "import pandas as pd\n",
    "import json\n",
    "\n",
    "import warnings\n",
    "warnings.filterwarnings('ignore')"
   ]
  },
  {
   "cell_type": "code",
   "execution_count": 3,
   "metadata": {},
   "outputs": [],
   "source": [
    "datatset_id = \"anonymized-crime-data\"\n",
    "limit = -1\n",
    "offset = 0\n",
    "\n",
    "url = \"https://cityofsalinas.opendatasoft.com/api/v2/catalog/datasets/{dataset_id}/exports/json?limit={limit}&offset={offset}&timezone=UTC\".format(dataset_id=datatset_id, limit=limit, offset=offset)\n",
    "resp = requests.get(url)"
   ]
  },
  {
   "cell_type": "code",
   "execution_count": 4,
   "metadata": {},
   "outputs": [],
   "source": [
    "resp_string = resp.content.decode(\"utf-8\")\n",
    "crime_df = pd.json_normalize(json.loads(resp_string ))"
   ]
  },
  {
   "cell_type": "code",
   "execution_count": 36,
   "metadata": {},
   "outputs": [
    {
     "data": {
      "text/html": [
       "<div>\n",
       "<style scoped>\n",
       "    .dataframe tbody tr th:only-of-type {\n",
       "        vertical-align: middle;\n",
       "    }\n",
       "\n",
       "    .dataframe tbody tr th {\n",
       "        vertical-align: top;\n",
       "    }\n",
       "\n",
       "    .dataframe thead th {\n",
       "        text-align: right;\n",
       "    }\n",
       "</style>\n",
       "<table border=\"1\" class=\"dataframe\">\n",
       "  <thead>\n",
       "    <tr style=\"text-align: right;\">\n",
       "      <th></th>\n",
       "      <th>objectid</th>\n",
       "      <th>reportid</th>\n",
       "      <th>occdate_on</th>\n",
       "      <th>occdate_th</th>\n",
       "      <th>address100</th>\n",
       "      <th>dow</th>\n",
       "      <th>code</th>\n",
       "      <th>class</th>\n",
       "      <th>crime</th>\n",
       "      <th>primary</th>\n",
       "      <th>...</th>\n",
       "      <th>arrest</th>\n",
       "      <th>suspectage</th>\n",
       "      <th>victages</th>\n",
       "      <th>category</th>\n",
       "      <th>gang_related_incident</th>\n",
       "      <th>geo_shape.type</th>\n",
       "      <th>geo_shape.geometry.coordinates</th>\n",
       "      <th>geo_shape.geometry.type</th>\n",
       "      <th>geo_point_2d.lon</th>\n",
       "      <th>geo_point_2d.lat</th>\n",
       "    </tr>\n",
       "  </thead>\n",
       "  <tbody>\n",
       "    <tr>\n",
       "      <th>0</th>\n",
       "      <td>5</td>\n",
       "      <td>18-031016</td>\n",
       "      <td>2018-03-20T01:00:00+00:00</td>\n",
       "      <td>None</td>\n",
       "      <td>Kipling St / Shelley Way</td>\n",
       "      <td>TUE</td>\n",
       "      <td>11364(a)</td>\n",
       "      <td>PT</td>\n",
       "      <td>Possession Of Paraphernalia</td>\n",
       "      <td>11364</td>\n",
       "      <td>...</td>\n",
       "      <td>Y</td>\n",
       "      <td>52</td>\n",
       "      <td>None</td>\n",
       "      <td>Drug</td>\n",
       "      <td>N</td>\n",
       "      <td>Feature</td>\n",
       "      <td>[-121.67254491145371, 36.65784754420223]</td>\n",
       "      <td>Point</td>\n",
       "      <td>-121.672545</td>\n",
       "      <td>36.657848</td>\n",
       "    </tr>\n",
       "    <tr>\n",
       "      <th>1</th>\n",
       "      <td>7</td>\n",
       "      <td>18-031139</td>\n",
       "      <td>2018-03-21T01:00:00+00:00</td>\n",
       "      <td>None</td>\n",
       "      <td>Broadway Dr / Lafayette Way</td>\n",
       "      <td>WED</td>\n",
       "      <td>11364(a)</td>\n",
       "      <td>PT</td>\n",
       "      <td>Possession Of Paraphernalia</td>\n",
       "      <td>11364</td>\n",
       "      <td>...</td>\n",
       "      <td>Y</td>\n",
       "      <td>42</td>\n",
       "      <td>None</td>\n",
       "      <td>Drug</td>\n",
       "      <td>N</td>\n",
       "      <td>Feature</td>\n",
       "      <td>[-121.64753260793644, 36.71360821613068]</td>\n",
       "      <td>Point</td>\n",
       "      <td>-121.647533</td>\n",
       "      <td>36.713608</td>\n",
       "    </tr>\n",
       "    <tr>\n",
       "      <th>2</th>\n",
       "      <td>8</td>\n",
       "      <td>18-031301</td>\n",
       "      <td>2018-03-24T01:00:00+00:00</td>\n",
       "      <td>None</td>\n",
       "      <td>N Madeira Ave / N Sanborn Rd</td>\n",
       "      <td>SAT</td>\n",
       "      <td>11364(a)</td>\n",
       "      <td>PT</td>\n",
       "      <td>Possession Of Paraphernalia</td>\n",
       "      <td>11364</td>\n",
       "      <td>...</td>\n",
       "      <td>Y</td>\n",
       "      <td>26</td>\n",
       "      <td>None</td>\n",
       "      <td>Drug</td>\n",
       "      <td>N</td>\n",
       "      <td>Feature</td>\n",
       "      <td>[-121.62218735421423, 36.68223353687473]</td>\n",
       "      <td>Point</td>\n",
       "      <td>-121.622187</td>\n",
       "      <td>36.682234</td>\n",
       "    </tr>\n",
       "    <tr>\n",
       "      <th>3</th>\n",
       "      <td>12</td>\n",
       "      <td>18-040189</td>\n",
       "      <td>2018-04-04T02:00:00+00:00</td>\n",
       "      <td>None</td>\n",
       "      <td>E Alisal St / N Sanborn Rd</td>\n",
       "      <td>WED</td>\n",
       "      <td>11364(a)</td>\n",
       "      <td>PT</td>\n",
       "      <td>Possession Of Paraphernalia</td>\n",
       "      <td>11364</td>\n",
       "      <td>...</td>\n",
       "      <td>Y</td>\n",
       "      <td>36</td>\n",
       "      <td>None</td>\n",
       "      <td>Drug</td>\n",
       "      <td>N</td>\n",
       "      <td>Feature</td>\n",
       "      <td>[-121.62745188216657, 36.67292195307567]</td>\n",
       "      <td>Point</td>\n",
       "      <td>-121.627452</td>\n",
       "      <td>36.672922</td>\n",
       "    </tr>\n",
       "    <tr>\n",
       "      <th>4</th>\n",
       "      <td>13</td>\n",
       "      <td>18-040208</td>\n",
       "      <td>2018-04-04T02:00:00+00:00</td>\n",
       "      <td>None</td>\n",
       "      <td>Bridge St / E Menke St</td>\n",
       "      <td>WED</td>\n",
       "      <td>11350(a)</td>\n",
       "      <td>PT</td>\n",
       "      <td>Possess Narcotic Controlled Substnc</td>\n",
       "      <td>11350</td>\n",
       "      <td>...</td>\n",
       "      <td>Y</td>\n",
       "      <td>56</td>\n",
       "      <td>None</td>\n",
       "      <td>Drug</td>\n",
       "      <td>N</td>\n",
       "      <td>Feature</td>\n",
       "      <td>[-121.65252010873806, 36.68189182871955]</td>\n",
       "      <td>Point</td>\n",
       "      <td>-121.652520</td>\n",
       "      <td>36.681892</td>\n",
       "    </tr>\n",
       "  </tbody>\n",
       "</table>\n",
       "<p>5 rows × 23 columns</p>\n",
       "</div>"
      ],
      "text/plain": [
       "   objectid   reportid                 occdate_on occdate_th  \\\n",
       "0         5  18-031016  2018-03-20T01:00:00+00:00       None   \n",
       "1         7  18-031139  2018-03-21T01:00:00+00:00       None   \n",
       "2         8  18-031301  2018-03-24T01:00:00+00:00       None   \n",
       "3        12  18-040189  2018-04-04T02:00:00+00:00       None   \n",
       "4        13  18-040208  2018-04-04T02:00:00+00:00       None   \n",
       "\n",
       "                     address100  dow      code class  \\\n",
       "0      Kipling St / Shelley Way  TUE  11364(a)    PT   \n",
       "1   Broadway Dr / Lafayette Way  WED  11364(a)    PT   \n",
       "2  N Madeira Ave / N Sanborn Rd  SAT  11364(a)    PT   \n",
       "3    E Alisal St / N Sanborn Rd  WED  11364(a)    PT   \n",
       "4        Bridge St / E Menke St  WED  11350(a)    PT   \n",
       "\n",
       "                                 crime primary  ... arrest  suspectage  \\\n",
       "0          Possession Of Paraphernalia   11364  ...      Y          52   \n",
       "1          Possession Of Paraphernalia   11364  ...      Y          42   \n",
       "2          Possession Of Paraphernalia   11364  ...      Y          26   \n",
       "3          Possession Of Paraphernalia   11364  ...      Y          36   \n",
       "4  Possess Narcotic Controlled Substnc   11350  ...      Y          56   \n",
       "\n",
       "   victages category gang_related_incident geo_shape.type  \\\n",
       "0      None     Drug                     N        Feature   \n",
       "1      None     Drug                     N        Feature   \n",
       "2      None     Drug                     N        Feature   \n",
       "3      None     Drug                     N        Feature   \n",
       "4      None     Drug                     N        Feature   \n",
       "\n",
       "             geo_shape.geometry.coordinates geo_shape.geometry.type  \\\n",
       "0  [-121.67254491145371, 36.65784754420223]                   Point   \n",
       "1  [-121.64753260793644, 36.71360821613068]                   Point   \n",
       "2  [-121.62218735421423, 36.68223353687473]                   Point   \n",
       "3  [-121.62745188216657, 36.67292195307567]                   Point   \n",
       "4  [-121.65252010873806, 36.68189182871955]                   Point   \n",
       "\n",
       "  geo_point_2d.lon geo_point_2d.lat  \n",
       "0      -121.672545        36.657848  \n",
       "1      -121.647533        36.713608  \n",
       "2      -121.622187        36.682234  \n",
       "3      -121.627452        36.672922  \n",
       "4      -121.652520        36.681892  \n",
       "\n",
       "[5 rows x 23 columns]"
      ]
     },
     "execution_count": 36,
     "metadata": {},
     "output_type": "execute_result"
    }
   ],
   "source": [
    "print(crime_df.shape)\n",
    "crime_df.head()"
   ]
  },
  {
   "cell_type": "code",
   "execution_count": 38,
   "metadata": {},
   "outputs": [],
   "source": [
    "year, month, day = crime_df['occdate_on'].str.split('T').str[0].str.split('-').str\n",
    "\n",
    "crime_df['year'] = pd.Series(year).astype(int)\n",
    "crime_df['month'] = pd.Series(month).astype(int)\n",
    "crime_df['day'] = pd.Series(day).astype(int)"
   ]
  },
  {
   "cell_type": "code",
   "execution_count": 16,
   "metadata": {},
   "outputs": [
    {
     "data": {
      "text/plain": [
       "<AxesSubplot:>"
      ]
     },
     "execution_count": 16,
     "metadata": {},
     "output_type": "execute_result"
    },
    {
     "data": {
      "image/png": "[encoded data removed]",
      "text/plain": [
       "<Figure size 640x480 with 1 Axes>"
      ]
     },
     "metadata": {},
     "output_type": "display_data"
    }
   ],
   "source": [
    "crime_df['crime'].value_counts()[:10].sort_values(ascending=False).plot(kind='barh')"
   ]
  },
  {
   "cell_type": "code",
   "execution_count": null,
   "metadata": {},
   "outputs": [],
   "source": [
    "cols = [\n",
    "    'crime',\n",
    "    'year',\n",
    "    'month',\n",
    "    'day',\n",
    "]"
   ]
  },
  {
   "cell_type": "code",
   "execution_count": 40,
   "metadata": {},
   "outputs": [],
   "source": [
    "crime_df.to_csv('./seeds/crime_data.csv', index=False)"
   ]
  },
  {
   "attachments": {},
   "cell_type": "markdown",
   "metadata": {},
   "source": [
    "Deliverable\n",
    "1. Top 10 types of incident filterable by year"
   ]
  }
 ],
 "metadata": {
  "kernelspec": {
   "display_name": "base",
   "language": "python",
   "name": "python3"
  },
  "language_info": {
   "codemirror_mode": {
    "name": "ipython",
    "version": 3
   },
   "file_extension": ".py",
   "mimetype": "text/x-python",
   "name": "python",
   "nbconvert_exporter": "python",
   "pygments_lexer": "ipython3",
   "version": "3.9.13"
  },
  "orig_nbformat": 4,
  "vscode": {
   "interpreter": {
    "hash": "21d12f5ba5730578358212c418d2d03990d08806c4da761f7b5c051b94321e8b"
   }
  }
 },
 "nbformat": 4,
 "nbformat_minor": 2
}
